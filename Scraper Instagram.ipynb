{
 "cells": [
  {
   "cell_type": "markdown",
   "metadata": {},
   "source": [
    "Testando pelo json que achei no site"
   ]
  },
  {
   "cell_type": "code",
   "execution_count": 1,
   "metadata": {},
   "outputs": [],
   "source": [
    "import requests\n",
    "from bs4 import BeautifulSoup\n",
    "import re"
   ]
  },
  {
   "cell_type": "code",
   "execution_count": 2,
   "metadata": {},
   "outputs": [],
   "source": [
    "#funcao pra pegar as fotos\n",
    "def get_next_page_curl(account_id,end_cursor):\n",
    "    params = (\n",
    "        ('query_hash', '58b6785bea111c67129decbe6a448951'),\n",
    "        ('variables', '{\"id\":'+'\"'+account_id+'\"'+',\"first\":12,\"after\":'+'\"'+end_cursor+'\"'+'}'),\n",
    "    )\n",
    "    response = requests.get('https://www.instagram.com/graphql/query/', params=params)\n",
    "    return response.json()"
   ]
  },
  {
   "cell_type": "code",
   "execution_count": 3,
   "metadata": {},
   "outputs": [],
   "source": [
    "params = (\n",
    "    ('__a', '1'),\n",
    ")\n",
    "\n",
    "response = requests.get('https://www.instagram.com/danbailo1/', params=params)"
   ]
  },
  {
   "cell_type": "code",
   "execution_count": 4,
   "metadata": {},
   "outputs": [],
   "source": [
    "instagram = response.json()"
   ]
  },
  {
   "cell_type": "code",
   "execution_count": 5,
   "metadata": {},
   "outputs": [],
   "source": [
    "instagram = instagram['graphql']['user']"
   ]
  },
  {
   "cell_type": "code",
   "execution_count": 6,
   "metadata": {},
   "outputs": [
    {
     "data": {
      "text/plain": [
       "'1641898664'"
      ]
     },
     "execution_count": 6,
     "metadata": {},
     "output_type": "execute_result"
    }
   ],
   "source": [
    "instagram[\"id\"]"
   ]
  },
  {
   "cell_type": "code",
   "execution_count": 7,
   "metadata": {},
   "outputs": [
    {
     "data": {
      "text/plain": [
       "{'has_next_page': True,\n",
       " 'end_cursor': 'QVFBdGU1cTRsQkJtcnowVU5SRmQ5X3F2RXFTdS1YcUxHLXpIQlBwZFdBSXBsNnpyc0RkRVlHNVJWM0libjNoMVNHQjdJVjdENHQzUkpkNURxMlJoaHd5ZQ=='}"
      ]
     },
     "execution_count": 7,
     "metadata": {},
     "output_type": "execute_result"
    }
   ],
   "source": [
    "instagram[\"edge_owner_to_timeline_media\"][\"page_info\"]"
   ]
  },
  {
   "cell_type": "code",
   "execution_count": 8,
   "metadata": {},
   "outputs": [
    {
     "data": {
      "text/plain": [
       "{'has_next_page': True,\n",
       " 'end_cursor': 'QVFBdGU1cTRsQkJtcnowVU5SRmQ5X3F2RXFTdS1YcUxHLXpIQlBwZFdBSXBsNnpyc0RkRVlHNVJWM0libjNoMVNHQjdJVjdENHQzUkpkNURxMlJoaHd5ZQ=='}"
      ]
     },
     "execution_count": 8,
     "metadata": {},
     "output_type": "execute_result"
    }
   ],
   "source": [
    "instagram[\"edge_owner_to_timeline_media\"][\"page_info\"]"
   ]
  },
  {
   "cell_type": "code",
   "execution_count": null,
   "metadata": {},
   "outputs": [],
   "source": [
    "instagram[\"edge_owner_to_timeline_media\"][\"edges\"]"
   ]
  },
  {
   "cell_type": "code",
   "execution_count": 9,
   "metadata": {},
   "outputs": [
    {
     "data": {
      "text/plain": [
       "12"
      ]
     },
     "execution_count": 9,
     "metadata": {},
     "output_type": "execute_result"
    }
   ],
   "source": [
    "len(instagram[\"edge_owner_to_timeline_media\"][\"edges\"])"
   ]
  },
  {
   "cell_type": "code",
   "execution_count": 21,
   "metadata": {},
   "outputs": [
    {
     "data": {
      "text/plain": [
       "{'__typename': 'GraphImage',\n",
       " 'id': '2042149283008009833',\n",
       " 'edge_media_to_caption': {'edges': [{'node': {'text': 'Feliz dias das mães pra todas as mães desse mundão. Te amo muito mãe, saudades de você minha rainha ❤️'}}]},\n",
       " 'shortcode': 'BxXK_QAAtZp',\n",
       " 'edge_media_to_comment': {'count': 2},\n",
       " 'comments_disabled': False,\n",
       " 'taken_at_timestamp': 1557663186,\n",
       " 'dimensions': {'height': 1080, 'width': 1080},\n",
       " 'display_url': 'https://instagram.fcgr1-2.fna.fbcdn.net/vp/ddc2a0fc18f867d54c655014419f0ea2/5E2ADAAC/t51.2885-15/e35/58939990_626376557845229_2823175384745114970_n.jpg?_nc_ht=instagram.fcgr1-2.fna.fbcdn.net&_nc_cat=105',\n",
       " 'edge_liked_by': {'count': 157},\n",
       " 'edge_media_preview_like': {'count': 157},\n",
       " 'location': {'id': '235435430',\n",
       "  'has_public_page': True,\n",
       "  'name': 'José Bonifácio, Brazil',\n",
       "  'slug': 'jose-bonifacio-brazil'},\n",
       " 'gating_info': None,\n",
       " 'fact_check_information': None,\n",
       " 'media_preview': 'ACoqkcYXPT0J/nTEUc87hgdSDz+AHX0qldXB3bOgHH/16ZBKVbOcg9f8f/r0jTlsrlzPlqzZLDHQkHn24GPp/hSlj9wnHQ5AA4OeOSQOe/XHanEK+QwwCMnHU9qguYlRS+7aOBheemcf/XFFmQ2l89i8gwPX3pf89ayIn3yqY2Of4t3Qgdv8K1d3vQIoXzblT0yarQjLAetSzuBEQc5JBHt61Wtm/fLn1/nQkac1lY0H+7tYdf8AH3qpcxfu9y8jOffuOamdslyf72OfT/PpTWYDA7kjp6HNabJ/10MXq1/XUr2mfNXg/lWoWqrEx2nPGOhpMCsmWLJCH+Q5Gen19Ki3qAOgZST74H+eKszkhHx6GqjKPLU4HQ0lqVsIDuYDrnLg+vHSnyAlsAZ4H5nnj86tW3KD2AxSTfKQRxgdvrS6h0HPEY8huThenYnqKj59P0q3aEtFLnn7p5+tKAKHoG5//9k=',\n",
       " 'owner': {'id': '1641898664', 'username': 'danbailo1'},\n",
       " 'thumbnail_src': 'https://instagram.fcgr1-2.fna.fbcdn.net/vp/7398a214dd79ec0a0df4a17193b6e0c2/5E24E049/t51.2885-15/sh0.08/e35/s640x640/58939990_626376557845229_2823175384745114970_n.jpg?_nc_ht=instagram.fcgr1-2.fna.fbcdn.net&_nc_cat=105',\n",
       " 'thumbnail_resources': [{'src': 'https://instagram.fcgr1-2.fna.fbcdn.net/vp/e8c5b310c2783292d3ffcc95a626f134/5E3B49EE/t51.2885-15/e35/s150x150/58939990_626376557845229_2823175384745114970_n.jpg?_nc_ht=instagram.fcgr1-2.fna.fbcdn.net&_nc_cat=105',\n",
       "   'config_width': 150,\n",
       "   'config_height': 150},\n",
       "  {'src': 'https://instagram.fcgr1-2.fna.fbcdn.net/vp/79dc1c64acc8e94a187237af0a8b438f/5E1CFAA4/t51.2885-15/e35/s240x240/58939990_626376557845229_2823175384745114970_n.jpg?_nc_ht=instagram.fcgr1-2.fna.fbcdn.net&_nc_cat=105',\n",
       "   'config_width': 240,\n",
       "   'config_height': 240},\n",
       "  {'src': 'https://instagram.fcgr1-2.fna.fbcdn.net/vp/5842deb4f374f8abce4ed8ca74e0c8db/5E2CAF1E/t51.2885-15/e35/s320x320/58939990_626376557845229_2823175384745114970_n.jpg?_nc_ht=instagram.fcgr1-2.fna.fbcdn.net&_nc_cat=105',\n",
       "   'config_width': 320,\n",
       "   'config_height': 320},\n",
       "  {'src': 'https://instagram.fcgr1-2.fna.fbcdn.net/vp/2a6ec3ff401213fdee99bdfda2190961/5E30A344/t51.2885-15/e35/s480x480/58939990_626376557845229_2823175384745114970_n.jpg?_nc_ht=instagram.fcgr1-2.fna.fbcdn.net&_nc_cat=105',\n",
       "   'config_width': 480,\n",
       "   'config_height': 480},\n",
       "  {'src': 'https://instagram.fcgr1-2.fna.fbcdn.net/vp/7398a214dd79ec0a0df4a17193b6e0c2/5E24E049/t51.2885-15/sh0.08/e35/s640x640/58939990_626376557845229_2823175384745114970_n.jpg?_nc_ht=instagram.fcgr1-2.fna.fbcdn.net&_nc_cat=105',\n",
       "   'config_width': 640,\n",
       "   'config_height': 640}],\n",
       " 'is_video': False,\n",
       " 'accessibility_caption': 'Image may contain: 4 people, people standing'}"
      ]
     },
     "execution_count": 21,
     "metadata": {},
     "output_type": "execute_result"
    }
   ],
   "source": [
    "instagram[\"edge_owner_to_timeline_media\"][\"edges\"][2][\"node\"]"
   ]
  },
  {
   "cell_type": "code",
   "execution_count": 11,
   "metadata": {},
   "outputs": [
    {
     "data": {
      "text/plain": [
       "'QVFBdGU1cTRsQkJtcnowVU5SRmQ5X3F2RXFTdS1YcUxHLXpIQlBwZFdBSXBsNnpyc0RkRVlHNVJWM0libjNoMVNHQjdJVjdENHQzUkpkNURxMlJoaHd5ZQ=='"
      ]
     },
     "execution_count": 11,
     "metadata": {},
     "output_type": "execute_result"
    }
   ],
   "source": [
    "instagram[\"edge_owner_to_timeline_media\"][\"page_info\"]['end_cursor']"
   ]
  },
  {
   "cell_type": "code",
   "execution_count": 16,
   "metadata": {},
   "outputs": [
    {
     "name": "stdout",
     "output_type": "stream",
     "text": [
      "1\n",
      "\n",
      "2\n",
      "\n",
      "3\n",
      "\n",
      "4\n",
      "\n",
      "5\n",
      "\n",
      "6\n",
      "\n",
      "7\n",
      "\n",
      "8\n",
      "\n",
      "9\n",
      "\n",
      "10\n",
      "\n",
      "11\n",
      "\n",
      "12\n",
      "\n",
      "1\n",
      "\n",
      "2\n",
      "\n",
      "3\n",
      "\n",
      "4\n",
      "\n",
      "5\n",
      "\n",
      "6\n",
      "\n",
      "7\n",
      "\n",
      "8\n",
      "\n",
      "9\n",
      "\n",
      "10\n",
      "\n",
      "11\n",
      "\n",
      "12\n",
      "\n",
      "1\n",
      "\n",
      "2\n",
      "\n",
      "3\n",
      "\n",
      "4\n",
      "\n"
     ]
    }
   ],
   "source": [
    "response = get_next_page_curl('1641898664',instagram[\"edge_owner_to_timeline_media\"][\"page_info\"]['end_cursor'])\n",
    "photos = []\n",
    "while True:\n",
    "    about = response[\"data\"][\"user\"][\"edge_owner_to_timeline_media\"]\n",
    "    i=0\n",
    "    while i < 12:\n",
    "        try:\n",
    "            img_link = about[\"edges\"][i][\"node\"][\"display_url\"]\n",
    "            id_img = about[\"edges\"][i][\"node\"][\"id\"]\n",
    "        except IndexError:\n",
    "            break\n",
    "        i += 1\n",
    "        photos.append((id_img,img_link))\n",
    "        print(i)\n",
    "        print()\n",
    "    if about[\"page_info\"][\"has_next_page\"]:        \n",
    "        response = get_next_page_curl('1641898664',about[\"page_info\"][\"end_cursor\"])\n",
    "    else: break"
   ]
  },
  {
   "cell_type": "code",
   "execution_count": null,
   "metadata": {},
   "outputs": [],
   "source": [
    "sorted(photos)"
   ]
  },
  {
   "cell_type": "code",
   "execution_count": null,
   "metadata": {},
   "outputs": [],
   "source": [
    "len(photos)"
   ]
  },
  {
   "cell_type": "markdown",
   "metadata": {},
   "source": [
    "vou tentar achar os posts que tem mais de uma foto"
   ]
  },
  {
   "cell_type": "code",
   "execution_count": null,
   "metadata": {},
   "outputs": [],
   "source": [
    "params = (\n",
    "    ('query_hash', '58b6785bea111c67129decbe6a448951'),\n",
    "    ('variables', '{\"id\":\"1641898664\",\"first\":12,\"after\":\"QVFCSTd6YVhZOFpfd3NhVHlGRUVJNzF6S3JCX2VGbFJsUDlGQUhQSjlLejF2a0NQUlRrWGVCTXdmREtTbldrd3pDNnNrYWltRnR6Q25iTGpJNnIxME9iVQ==\"}'),\n",
    ")\n",
    "response = requests.get('https://www.instagram.com/graphql/query/', params=params)\n",
    "response_json = response.json()"
   ]
  },
  {
   "cell_type": "code",
   "execution_count": null,
   "metadata": {},
   "outputs": [],
   "source": [
    "print(response_json[\"data\"][\"user\"][\"edge_owner_to_timeline_media\"][\"edges\"][0][\"node\"][\"display_url\"])"
   ]
  },
  {
   "cell_type": "code",
   "execution_count": null,
   "metadata": {},
   "outputs": [],
   "source": []
  },
  {
   "cell_type": "markdown",
   "metadata": {},
   "source": [
    "posts com mais de uma foto"
   ]
  },
  {
   "cell_type": "code",
   "execution_count": null,
   "metadata": {},
   "outputs": [],
   "source": [
    "params = (\n",
    "    ('query_hash', '865589822932d1b43dfe312121dd353a'),\n",
    "    ('variables', '{\"shortcode\":\"Bdplv-olUPW\",\"child_comment_count\":3,\"fetch_comment_count\":40,\"parent_comment_count\":24,\"has_threaded_comments\":true}'),\n",
    ")\n",
    "\n",
    "response = requests.get('https://www.instagram.com/graphql/query/', headers=headers, params=params)"
   ]
  }
 ],
 "metadata": {
  "kernelspec": {
   "display_name": "Python 3",
   "language": "python",
   "name": "python3"
  },
  "language_info": {
   "codemirror_mode": {
    "name": "ipython",
    "version": 3
   },
   "file_extension": ".py",
   "mimetype": "text/x-python",
   "name": "python",
   "nbconvert_exporter": "python",
   "pygments_lexer": "ipython3",
   "version": "3.7.3"
  }
 },
 "nbformat": 4,
 "nbformat_minor": 4
}
