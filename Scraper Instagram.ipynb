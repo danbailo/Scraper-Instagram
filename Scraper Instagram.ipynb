{
 "cells": [
  {
   "cell_type": "markdown",
   "metadata": {},
   "source": [
    "https://www.instagram.com/graphql/query/?query_hash=58b6785bea111c67129decbe6a448951&variables=%7B%22id%22%3A%221641898664%22%2C%22first%22%3A12%2C%22after%22%3A%22QVFDY0JVTEs0VHFLNFlxaExnUzItU204bzFGVjJTam9LWWZRUTh0RWRJTkwxb2h6R0dmdWNPSnZxQk12clh2UlN5alFGTTM0d2FZZzFuams2RVBDazdKZQ%3D%3D%22%7D"
   ]
  },
  {
   "cell_type": "code",
   "execution_count": 22,
   "metadata": {},
   "outputs": [],
   "source": [
    "import requests\n",
    "import json"
   ]
  },
  {
   "cell_type": "code",
   "execution_count": 17,
   "metadata": {},
   "outputs": [],
   "source": [
    "response = requests.get(r'https://www.instagram.com/graphql/query/?query_hash=58b6785bea111c67129decbe6a448951&variables=%7B%22id%22%3A%221641898664%22%2C%22first%22%3A12%2C%22after%22%3A%22QVFDY0JVTEs0VHFLNFlxaExnUzItU204bzFGVjJTam9LWWZRUTh0RWRJTkwxb2h6R0dmdWNPSnZxQk12clh2UlN5alFGTTM0d2FZZzFuams2RVBDazdKZQ%3D%3D%22%7D')"
   ]
  },
  {
   "cell_type": "code",
   "execution_count": null,
   "metadata": {},
   "outputs": [],
   "source": [
    "response.json()['data']['user']['edge_owner_to_timeline_media']['edges'][0]['node']"
   ]
  },
  {
   "cell_type": "code",
   "execution_count": 78,
   "metadata": {},
   "outputs": [
    {
     "data": {
      "text/plain": [
       "[{'src': 'https://instagram.fcgr1-2.fna.fbcdn.net/vp/ef10932fa3f93a1ce67ea04d0b0d68ce/5E36D5FD/t51.2885-15/sh0.08/e35/s640x640/22157549_1008828329257530_5014682155565973504_n.jpg?_nc_ht=instagram.fcgr1-2.fna.fbcdn.net&_nc_cat=106',\n",
       "  'config_width': 640,\n",
       "  'config_height': 360},\n",
       " {'src': 'https://instagram.fcgr1-2.fna.fbcdn.net/vp/5008fb2097bd7f26aa033452984afce9/5E21E539/t51.2885-15/sh0.08/e35/s750x750/22157549_1008828329257530_5014682155565973504_n.jpg?_nc_ht=instagram.fcgr1-2.fna.fbcdn.net&_nc_cat=106',\n",
       "  'config_width': 750,\n",
       "  'config_height': 422},\n",
       " {'src': 'https://instagram.fcgr1-2.fna.fbcdn.net/vp/0838ded11cb7e8a13daa1a90d036dcde/5E1B1147/t51.2885-15/e35/22157549_1008828329257530_5014682155565973504_n.jpg?_nc_ht=instagram.fcgr1-2.fna.fbcdn.net&_nc_cat=106',\n",
       "  'config_width': 1080,\n",
       "  'config_height': 608}]"
      ]
     },
     "execution_count": 78,
     "metadata": {},
     "output_type": "execute_result"
    }
   ],
   "source": [
    "response.json()['data']['user']['edge_owner_to_timeline_media']['edges'][0]['node'][\"display_resources\"]"
   ]
  },
  {
   "cell_type": "code",
   "execution_count": 83,
   "metadata": {},
   "outputs": [
    {
     "data": {
      "text/plain": [
       "{'has_next_page': False, 'end_cursor': None}"
      ]
     },
     "execution_count": 83,
     "metadata": {},
     "output_type": "execute_result"
    }
   ],
   "source": [
    "response.json()['data']['user']['edge_owner_to_timeline_media']['edges'][0]['node'][\"edge_media_to_comment\"][\"page_info\"]"
   ]
  },
  {
   "cell_type": "code",
   "execution_count": 84,
   "metadata": {},
   "outputs": [
    {
     "name": "stdout",
     "output_type": "stream",
     "text": [
      "{'has_next_page': False, 'end_cursor': None}\n",
      "{'has_next_page': True, 'end_cursor': 'QVFBVnBNb0xaRy1xR2U0UnhpTzZkQWNiNlV0Y0FZcTRScmZzUlZuRGEwcG9rSF9jYkpVZFp4VnY0ME1EYWdGUHEwOW00c2J3UVhsTGgzcU4wWWowWm5VMw=='}\n",
      "{'has_next_page': False, 'end_cursor': None}\n",
      "{'has_next_page': True, 'end_cursor': 'QVFEM1pTVHJGOE5SZUxkZGh0TmZJNzdvcUhQLXVDcjJzdHVub2FoTERtaFJOdWVHaFlsT19BNUNxbGtCMWJyUk96VlFqU0FsMC03aVZwM2pCQnFrR21weQ=='}\n",
      "{'has_next_page': False, 'end_cursor': None}\n",
      "{'has_next_page': False, 'end_cursor': None}\n",
      "{'has_next_page': False, 'end_cursor': None}\n",
      "{'has_next_page': False, 'end_cursor': None}\n",
      "{'has_next_page': False, 'end_cursor': None}\n",
      "{'has_next_page': False, 'end_cursor': None}\n",
      "{'has_next_page': False, 'end_cursor': None}\n",
      "{'has_next_page': False, 'end_cursor': None}\n"
     ]
    }
   ],
   "source": [
    "for i in range(12):\n",
    "    print(response.json()['data']['user']['edge_owner_to_timeline_media']['edges'][i]['node'][\"edge_media_to_comment\"][\"page_info\"])"
   ]
  },
  {
   "cell_type": "code",
   "execution_count": null,
   "metadata": {},
   "outputs": [],
   "source": []
  }
 ],
 "metadata": {
  "kernelspec": {
   "display_name": "Python 3",
   "language": "python",
   "name": "python3"
  },
  "language_info": {
   "codemirror_mode": {
    "name": "ipython",
    "version": 3
   },
   "file_extension": ".py",
   "mimetype": "text/x-python",
   "name": "python",
   "nbconvert_exporter": "python",
   "pygments_lexer": "ipython3",
   "version": "3.7.3"
  }
 },
 "nbformat": 4,
 "nbformat_minor": 4
}
